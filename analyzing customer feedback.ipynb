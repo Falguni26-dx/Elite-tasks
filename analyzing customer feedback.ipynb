{
 "cells": [
  {
   "cell_type": "code",
   "execution_count": 2,
   "id": "6b45aa8e-4f23-4a26-a5d7-0d319de7b7b7",
   "metadata": {},
   "outputs": [],
   "source": [
    "import pandas as pd \n",
    "import matplotlib.pyplot as plt\n",
    "import numpy as np"
   ]
  },
  {
   "cell_type": "code",
   "execution_count": 3,
   "id": "5295b560-3f73-4f41-8feb-e9b210860888",
   "metadata": {},
   "outputs": [],
   "source": [
    "df=pd.read_excel(\"C:/Users/Falguni Jain/Downloads/customer_feedback.xlsx\")"
   ]
  },
  {
   "cell_type": "code",
   "execution_count": 4,
   "id": "17884f90-9fbb-4078-9e4a-87b06d6c10b5",
   "metadata": {},
   "outputs": [
    {
     "name": "stdout",
     "output_type": "stream",
     "text": [
      "   Customer_ID                                           Feedback  Rating  \\\n",
      "0          101                 Great service, I am very satisfied       5   \n",
      "1          102  The delivery was late and the package was damaged       2   \n",
      "2          103               Good quality but slightly overpriced       4   \n",
      "3          104                     Customer support was excellent       5   \n",
      "4          105   Not happy with the product, very poor experience       1   \n",
      "5          106  Decent, but could be better in terms of packaging       3   \n",
      "6          107               Absolutely love it! Highly recommend       5   \n",
      "7          108                Average experience, nothing special       3   \n",
      "8          109                  Very bad, will not purchase again       1   \n",
      "9          110             Fast delivery and good value for money       4   \n",
      "\n",
      "   NPS_Score  \n",
      "0         10  \n",
      "1          4  \n",
      "2          7  \n",
      "3          9  \n",
      "4          2  \n",
      "5          6  \n",
      "6         10  \n",
      "7          7  \n",
      "8          3  \n",
      "9          9  \n"
     ]
    }
   ],
   "source": [
    "print(df)"
   ]
  },
  {
   "cell_type": "code",
   "execution_count": 5,
   "id": "244822de-5563-49ba-92c9-1483bc00a54f",
   "metadata": {},
   "outputs": [
    {
     "data": {
      "text/html": [
       "<div>\n",
       "<style scoped>\n",
       "    .dataframe tbody tr th:only-of-type {\n",
       "        vertical-align: middle;\n",
       "    }\n",
       "\n",
       "    .dataframe tbody tr th {\n",
       "        vertical-align: top;\n",
       "    }\n",
       "\n",
       "    .dataframe thead th {\n",
       "        text-align: right;\n",
       "    }\n",
       "</style>\n",
       "<table border=\"1\" class=\"dataframe\">\n",
       "  <thead>\n",
       "    <tr style=\"text-align: right;\">\n",
       "      <th></th>\n",
       "      <th>Customer_ID</th>\n",
       "      <th>Feedback</th>\n",
       "      <th>Rating</th>\n",
       "      <th>NPS_Score</th>\n",
       "    </tr>\n",
       "  </thead>\n",
       "  <tbody>\n",
       "    <tr>\n",
       "      <th>0</th>\n",
       "      <td>101</td>\n",
       "      <td>Great service, I am very satisfied</td>\n",
       "      <td>5</td>\n",
       "      <td>10</td>\n",
       "    </tr>\n",
       "    <tr>\n",
       "      <th>1</th>\n",
       "      <td>102</td>\n",
       "      <td>The delivery was late and the package was damaged</td>\n",
       "      <td>2</td>\n",
       "      <td>4</td>\n",
       "    </tr>\n",
       "    <tr>\n",
       "      <th>2</th>\n",
       "      <td>103</td>\n",
       "      <td>Good quality but slightly overpriced</td>\n",
       "      <td>4</td>\n",
       "      <td>7</td>\n",
       "    </tr>\n",
       "    <tr>\n",
       "      <th>3</th>\n",
       "      <td>104</td>\n",
       "      <td>Customer support was excellent</td>\n",
       "      <td>5</td>\n",
       "      <td>9</td>\n",
       "    </tr>\n",
       "    <tr>\n",
       "      <th>4</th>\n",
       "      <td>105</td>\n",
       "      <td>Not happy with the product, very poor experience</td>\n",
       "      <td>1</td>\n",
       "      <td>2</td>\n",
       "    </tr>\n",
       "  </tbody>\n",
       "</table>\n",
       "</div>"
      ],
      "text/plain": [
       "   Customer_ID                                           Feedback  Rating  \\\n",
       "0          101                 Great service, I am very satisfied       5   \n",
       "1          102  The delivery was late and the package was damaged       2   \n",
       "2          103               Good quality but slightly overpriced       4   \n",
       "3          104                     Customer support was excellent       5   \n",
       "4          105   Not happy with the product, very poor experience       1   \n",
       "\n",
       "   NPS_Score  \n",
       "0         10  \n",
       "1          4  \n",
       "2          7  \n",
       "3          9  \n",
       "4          2  "
      ]
     },
     "execution_count": 5,
     "metadata": {},
     "output_type": "execute_result"
    }
   ],
   "source": [
    "df.head()"
   ]
  },
  {
   "cell_type": "code",
   "execution_count": 6,
   "id": "b4a70230-1d7a-4c08-a69c-d3d60dff03ff",
   "metadata": {},
   "outputs": [
    {
     "data": {
      "text/plain": [
       "(10, 4)"
      ]
     },
     "execution_count": 6,
     "metadata": {},
     "output_type": "execute_result"
    }
   ],
   "source": [
    "df.shape"
   ]
  },
  {
   "cell_type": "code",
   "execution_count": 7,
   "id": "a74b4e8a-cb31-4294-b2ab-bd518d2a68e3",
   "metadata": {},
   "outputs": [
    {
     "data": {
      "text/html": [
       "<div>\n",
       "<style scoped>\n",
       "    .dataframe tbody tr th:only-of-type {\n",
       "        vertical-align: middle;\n",
       "    }\n",
       "\n",
       "    .dataframe tbody tr th {\n",
       "        vertical-align: top;\n",
       "    }\n",
       "\n",
       "    .dataframe thead th {\n",
       "        text-align: right;\n",
       "    }\n",
       "</style>\n",
       "<table border=\"1\" class=\"dataframe\">\n",
       "  <thead>\n",
       "    <tr style=\"text-align: right;\">\n",
       "      <th></th>\n",
       "      <th>Customer_ID</th>\n",
       "      <th>Rating</th>\n",
       "      <th>NPS_Score</th>\n",
       "    </tr>\n",
       "  </thead>\n",
       "  <tbody>\n",
       "    <tr>\n",
       "      <th>count</th>\n",
       "      <td>10.00000</td>\n",
       "      <td>10.000000</td>\n",
       "      <td>10.000000</td>\n",
       "    </tr>\n",
       "    <tr>\n",
       "      <th>mean</th>\n",
       "      <td>105.50000</td>\n",
       "      <td>3.300000</td>\n",
       "      <td>6.700000</td>\n",
       "    </tr>\n",
       "    <tr>\n",
       "      <th>std</th>\n",
       "      <td>3.02765</td>\n",
       "      <td>1.567021</td>\n",
       "      <td>2.907844</td>\n",
       "    </tr>\n",
       "    <tr>\n",
       "      <th>min</th>\n",
       "      <td>101.00000</td>\n",
       "      <td>1.000000</td>\n",
       "      <td>2.000000</td>\n",
       "    </tr>\n",
       "    <tr>\n",
       "      <th>25%</th>\n",
       "      <td>103.25000</td>\n",
       "      <td>2.250000</td>\n",
       "      <td>4.500000</td>\n",
       "    </tr>\n",
       "    <tr>\n",
       "      <th>50%</th>\n",
       "      <td>105.50000</td>\n",
       "      <td>3.500000</td>\n",
       "      <td>7.000000</td>\n",
       "    </tr>\n",
       "    <tr>\n",
       "      <th>75%</th>\n",
       "      <td>107.75000</td>\n",
       "      <td>4.750000</td>\n",
       "      <td>9.000000</td>\n",
       "    </tr>\n",
       "    <tr>\n",
       "      <th>max</th>\n",
       "      <td>110.00000</td>\n",
       "      <td>5.000000</td>\n",
       "      <td>10.000000</td>\n",
       "    </tr>\n",
       "  </tbody>\n",
       "</table>\n",
       "</div>"
      ],
      "text/plain": [
       "       Customer_ID     Rating  NPS_Score\n",
       "count     10.00000  10.000000  10.000000\n",
       "mean     105.50000   3.300000   6.700000\n",
       "std        3.02765   1.567021   2.907844\n",
       "min      101.00000   1.000000   2.000000\n",
       "25%      103.25000   2.250000   4.500000\n",
       "50%      105.50000   3.500000   7.000000\n",
       "75%      107.75000   4.750000   9.000000\n",
       "max      110.00000   5.000000  10.000000"
      ]
     },
     "execution_count": 7,
     "metadata": {},
     "output_type": "execute_result"
    }
   ],
   "source": [
    "df.describe()"
   ]
  },
  {
   "cell_type": "code",
   "execution_count": 8,
   "id": "56821b11-55a6-4867-a1db-caa8710a1676",
   "metadata": {},
   "outputs": [
    {
     "data": {
      "text/html": [
       "<div>\n",
       "<style scoped>\n",
       "    .dataframe tbody tr th:only-of-type {\n",
       "        vertical-align: middle;\n",
       "    }\n",
       "\n",
       "    .dataframe tbody tr th {\n",
       "        vertical-align: top;\n",
       "    }\n",
       "\n",
       "    .dataframe thead th {\n",
       "        text-align: right;\n",
       "    }\n",
       "</style>\n",
       "<table border=\"1\" class=\"dataframe\">\n",
       "  <thead>\n",
       "    <tr style=\"text-align: right;\">\n",
       "      <th></th>\n",
       "      <th>Customer_ID</th>\n",
       "      <th>Feedback</th>\n",
       "      <th>Rating</th>\n",
       "      <th>NPS_Score</th>\n",
       "    </tr>\n",
       "  </thead>\n",
       "  <tbody>\n",
       "    <tr>\n",
       "      <th>5</th>\n",
       "      <td>106</td>\n",
       "      <td>Decent, but could be better in terms of packaging</td>\n",
       "      <td>3</td>\n",
       "      <td>6</td>\n",
       "    </tr>\n",
       "    <tr>\n",
       "      <th>6</th>\n",
       "      <td>107</td>\n",
       "      <td>Absolutely love it! Highly recommend</td>\n",
       "      <td>5</td>\n",
       "      <td>10</td>\n",
       "    </tr>\n",
       "    <tr>\n",
       "      <th>7</th>\n",
       "      <td>108</td>\n",
       "      <td>Average experience, nothing special</td>\n",
       "      <td>3</td>\n",
       "      <td>7</td>\n",
       "    </tr>\n",
       "    <tr>\n",
       "      <th>8</th>\n",
       "      <td>109</td>\n",
       "      <td>Very bad, will not purchase again</td>\n",
       "      <td>1</td>\n",
       "      <td>3</td>\n",
       "    </tr>\n",
       "    <tr>\n",
       "      <th>9</th>\n",
       "      <td>110</td>\n",
       "      <td>Fast delivery and good value for money</td>\n",
       "      <td>4</td>\n",
       "      <td>9</td>\n",
       "    </tr>\n",
       "  </tbody>\n",
       "</table>\n",
       "</div>"
      ],
      "text/plain": [
       "   Customer_ID                                           Feedback  Rating  \\\n",
       "5          106  Decent, but could be better in terms of packaging       3   \n",
       "6          107               Absolutely love it! Highly recommend       5   \n",
       "7          108                Average experience, nothing special       3   \n",
       "8          109                  Very bad, will not purchase again       1   \n",
       "9          110             Fast delivery and good value for money       4   \n",
       "\n",
       "   NPS_Score  \n",
       "5          6  \n",
       "6         10  \n",
       "7          7  \n",
       "8          3  \n",
       "9          9  "
      ]
     },
     "execution_count": 8,
     "metadata": {},
     "output_type": "execute_result"
    }
   ],
   "source": [
    "df.tail()"
   ]
  },
  {
   "cell_type": "code",
   "execution_count": 9,
   "id": "8f022459-8252-41e7-906c-dd3c3ebe4a6a",
   "metadata": {},
   "outputs": [
    {
     "data": {
      "text/plain": [
       "<bound method DataFrame.info of    Customer_ID                                           Feedback  Rating  \\\n",
       "0          101                 Great service, I am very satisfied       5   \n",
       "1          102  The delivery was late and the package was damaged       2   \n",
       "2          103               Good quality but slightly overpriced       4   \n",
       "3          104                     Customer support was excellent       5   \n",
       "4          105   Not happy with the product, very poor experience       1   \n",
       "5          106  Decent, but could be better in terms of packaging       3   \n",
       "6          107               Absolutely love it! Highly recommend       5   \n",
       "7          108                Average experience, nothing special       3   \n",
       "8          109                  Very bad, will not purchase again       1   \n",
       "9          110             Fast delivery and good value for money       4   \n",
       "\n",
       "   NPS_Score  \n",
       "0         10  \n",
       "1          4  \n",
       "2          7  \n",
       "3          9  \n",
       "4          2  \n",
       "5          6  \n",
       "6         10  \n",
       "7          7  \n",
       "8          3  \n",
       "9          9  >"
      ]
     },
     "execution_count": 9,
     "metadata": {},
     "output_type": "execute_result"
    }
   ],
   "source": [
    "df.info"
   ]
  },
  {
   "cell_type": "code",
   "execution_count": 13,
   "id": "b569186b-2ae9-4b44-af6d-0461c32edf47",
   "metadata": {},
   "outputs": [
    {
     "name": "stdout",
     "output_type": "stream",
     "text": [
      "Collecting textblobNote: you may need to restart the kernel to use updated packages.\n",
      "\n",
      "  Downloading textblob-0.19.0-py3-none-any.whl.metadata (4.4 kB)\n",
      "Requirement already satisfied: nltk>=3.9 in c:\\users\\falguni jain\\anaconda3\\lib\\site-packages (from textblob) (3.9.1)\n",
      "Requirement already satisfied: click in c:\\users\\falguni jain\\anaconda3\\lib\\site-packages (from nltk>=3.9->textblob) (8.1.7)\n",
      "Requirement already satisfied: joblib in c:\\users\\falguni jain\\anaconda3\\lib\\site-packages (from nltk>=3.9->textblob) (1.4.2)\n",
      "Requirement already satisfied: regex>=2021.8.3 in c:\\users\\falguni jain\\anaconda3\\lib\\site-packages (from nltk>=3.9->textblob) (2024.9.11)\n",
      "Requirement already satisfied: tqdm in c:\\users\\falguni jain\\anaconda3\\lib\\site-packages (from nltk>=3.9->textblob) (4.66.5)\n",
      "Requirement already satisfied: colorama in c:\\users\\falguni jain\\anaconda3\\lib\\site-packages (from click->nltk>=3.9->textblob) (0.4.6)\n",
      "Downloading textblob-0.19.0-py3-none-any.whl (624 kB)\n",
      "   ---------------------------------------- 0.0/624.3 kB ? eta -:--:--\n",
      "   ---------------------------------------- 624.3/624.3 kB 3.9 MB/s eta 0:00:00\n",
      "Installing collected packages: textblob\n",
      "Successfully installed textblob-0.19.0\n"
     ]
    }
   ],
   "source": [
    "pip install textblob"
   ]
  },
  {
   "cell_type": "code",
   "execution_count": 14,
   "id": "c46216eb-267b-40c1-832b-578b719a48ab",
   "metadata": {},
   "outputs": [],
   "source": [
    "from textblob import TextBlob\n",
    "\n",
    "def get_sentiment(text):\n",
    "    analysis = TextBlob(text)\n",
    "    if analysis.sentiment.polarity > 0.1:\n",
    "        return \"Positive\"\n",
    "    elif analysis.sentiment.polarity < -0.1:\n",
    "        return \"Negative\"\n",
    "    else:\n",
    "        return \"Neutral\"\n",
    "\n",
    "df[\"Sentiment\"] = df[\"Feedback\"].apply(get_sentiment)"
   ]
  },
  {
   "cell_type": "code",
   "execution_count": 15,
   "id": "161902fa-248f-42e3-b950-5e2e12fe715b",
   "metadata": {},
   "outputs": [
    {
     "name": "stdout",
     "output_type": "stream",
     "text": [
      "0    Positive\n",
      "1    Negative\n",
      "2    Positive\n",
      "3    Positive\n",
      "4    Negative\n",
      "5    Positive\n",
      "6    Positive\n",
      "7    Positive\n",
      "8    Negative\n",
      "9    Positive\n",
      "Name: Sentiment, dtype: object\n"
     ]
    }
   ],
   "source": [
    "print(df[\"Sentiment\"])"
   ]
  },
  {
   "cell_type": "code",
   "execution_count": 16,
   "id": "3efec160-7043-48d8-82be-4d6c62d73db3",
   "metadata": {},
   "outputs": [],
   "source": [
    "def categorize_nps(score):\n",
    "    if score >= 9:\n",
    "        return \"Promoter\"\n",
    "    elif score >= 7:\n",
    "        return \"Passive\"\n",
    "    else:\n",
    "        return \"Detractor\"\n",
    "\n",
    "df[\"NPS_Category\"] = df[\"NPS_Score\"].apply(categorize_nps)\n"
   ]
  },
  {
   "cell_type": "code",
   "execution_count": 17,
   "id": "f8dc0dd2-5700-4f06-97fa-a49ee67e37de",
   "metadata": {},
   "outputs": [
    {
     "name": "stdout",
     "output_type": "stream",
     "text": [
      "0     Promoter\n",
      "1    Detractor\n",
      "2      Passive\n",
      "3     Promoter\n",
      "4    Detractor\n",
      "5    Detractor\n",
      "6     Promoter\n",
      "7      Passive\n",
      "8    Detractor\n",
      "9     Promoter\n",
      "Name: NPS_Category, dtype: object\n"
     ]
    }
   ],
   "source": [
    "print(df[\"NPS_Category\"])"
   ]
  },
  {
   "cell_type": "code",
   "execution_count": 18,
   "id": "4a9eb3f7-9084-494d-b6a5-eb670824bd93",
   "metadata": {},
   "outputs": [],
   "source": [
    "promoters = (df[\"NPS_Category\"] == \"Promoter\").sum()\n",
    "detractors = (df[\"NPS_Category\"] == \"Detractor\").sum()\n",
    "total = len(df)\n"
   ]
  },
  {
   "cell_type": "code",
   "execution_count": null,
   "id": "748d38f4-223e-4758-ac8b-bda1cfb6fd7c",
   "metadata": {},
   "outputs": [],
   "source": []
  }
 ],
 "metadata": {
  "kernelspec": {
   "display_name": "Python 3 (ipykernel)",
   "language": "python",
   "name": "python3"
  },
  "language_info": {
   "codemirror_mode": {
    "name": "ipython",
    "version": 3
   },
   "file_extension": ".py",
   "mimetype": "text/x-python",
   "name": "python",
   "nbconvert_exporter": "python",
   "pygments_lexer": "ipython3",
   "version": "3.12.7"
  }
 },
 "nbformat": 4,
 "nbformat_minor": 5
}
